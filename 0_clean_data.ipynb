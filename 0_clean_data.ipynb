{
 "cells": [
  {
   "cell_type": "markdown",
   "id": "14d017b4",
   "metadata": {},
   "source": [
    "# Clean data"
   ]
  },
  {
   "cell_type": "code",
   "execution_count": 1,
   "id": "ed4fb701",
   "metadata": {},
   "outputs": [],
   "source": [
    "import pandas as pd"
   ]
  },
  {
   "cell_type": "code",
   "execution_count": 2,
   "id": "67247c31",
   "metadata": {},
   "outputs": [],
   "source": [
    "df = pd.read_csv('./landslides_with_variables2.csv')"
   ]
  },
  {
   "cell_type": "code",
   "execution_count": 3,
   "id": "574385ad",
   "metadata": {},
   "outputs": [
    {
     "data": {
      "text/html": [
       "<div>\n",
       "<style scoped>\n",
       "    .dataframe tbody tr th:only-of-type {\n",
       "        vertical-align: middle;\n",
       "    }\n",
       "\n",
       "    .dataframe tbody tr th {\n",
       "        vertical-align: top;\n",
       "    }\n",
       "\n",
       "    .dataframe thead th {\n",
       "        text-align: right;\n",
       "    }\n",
       "</style>\n",
       "<table border=\"1\" class=\"dataframe\">\n",
       "  <thead>\n",
       "    <tr style=\"text-align: right;\">\n",
       "      <th></th>\n",
       "      <th>ID</th>\n",
       "      <th>Area Maximum</th>\n",
       "      <th>Valid Landslide</th>\n",
       "      <th>Latitude</th>\n",
       "      <th>Longitude</th>\n",
       "      <th>CURVATURE</th>\n",
       "      <th>TWI</th>\n",
       "      <th>SLOPE_deg</th>\n",
       "      <th>DEM</th>\n",
       "      <th>SLOPE_deg.1</th>\n",
       "      <th>ASPECT_deg</th>\n",
       "      <th>LANDCOVER_CODE</th>\n",
       "      <th>ASPECT_rad</th>\n",
       "      <th>ASPECT_sin</th>\n",
       "      <th>ASPECT_cos</th>\n",
       "      <th>SLOPE_rad</th>\n",
       "    </tr>\n",
       "  </thead>\n",
       "  <tbody>\n",
       "    <tr>\n",
       "      <th>0</th>\n",
       "      <td>1</td>\n",
       "      <td>200.0</td>\n",
       "      <td>1</td>\n",
       "      <td>-36.819859</td>\n",
       "      <td>174.746298</td>\n",
       "      <td>1.379645</td>\n",
       "      <td>5.286413</td>\n",
       "      <td>11.441814</td>\n",
       "      <td>18.809872</td>\n",
       "      <td>11.441814</td>\n",
       "      <td>222.978638</td>\n",
       "      <td>1.0</td>\n",
       "      <td>3.891711</td>\n",
       "      <td>-0.681726</td>\n",
       "      <td>-0.731608</td>\n",
       "      <td>0.199697</td>\n",
       "    </tr>\n",
       "    <tr>\n",
       "      <th>1</th>\n",
       "      <td>2</td>\n",
       "      <td>1.0</td>\n",
       "      <td>1</td>\n",
       "      <td>-36.798134</td>\n",
       "      <td>174.684934</td>\n",
       "      <td>0.190541</td>\n",
       "      <td>6.555068</td>\n",
       "      <td>14.671361</td>\n",
       "      <td>19.514647</td>\n",
       "      <td>14.671361</td>\n",
       "      <td>166.090866</td>\n",
       "      <td>1.0</td>\n",
       "      <td>2.898832</td>\n",
       "      <td>0.240383</td>\n",
       "      <td>-0.970678</td>\n",
       "      <td>0.256064</td>\n",
       "    </tr>\n",
       "    <tr>\n",
       "      <th>2</th>\n",
       "      <td>3</td>\n",
       "      <td>200.0</td>\n",
       "      <td>1</td>\n",
       "      <td>-36.932751</td>\n",
       "      <td>174.744548</td>\n",
       "      <td>0.068507</td>\n",
       "      <td>9.921234</td>\n",
       "      <td>17.020342</td>\n",
       "      <td>22.542194</td>\n",
       "      <td>17.020342</td>\n",
       "      <td>158.192902</td>\n",
       "      <td>11.0</td>\n",
       "      <td>2.760987</td>\n",
       "      <td>0.371483</td>\n",
       "      <td>-0.928440</td>\n",
       "      <td>0.297061</td>\n",
       "    </tr>\n",
       "    <tr>\n",
       "      <th>3</th>\n",
       "      <td>4</td>\n",
       "      <td>1.2</td>\n",
       "      <td>1</td>\n",
       "      <td>-36.852885</td>\n",
       "      <td>174.792092</td>\n",
       "      <td>0.528753</td>\n",
       "      <td>3.760681</td>\n",
       "      <td>29.180260</td>\n",
       "      <td>24.194622</td>\n",
       "      <td>29.180260</td>\n",
       "      <td>59.103947</td>\n",
       "      <td>11.0</td>\n",
       "      <td>1.031558</td>\n",
       "      <td>0.858100</td>\n",
       "      <td>0.513482</td>\n",
       "      <td>0.509292</td>\n",
       "    </tr>\n",
       "    <tr>\n",
       "      <th>4</th>\n",
       "      <td>5</td>\n",
       "      <td>300.0</td>\n",
       "      <td>1</td>\n",
       "      <td>-36.809204</td>\n",
       "      <td>174.718141</td>\n",
       "      <td>-0.087607</td>\n",
       "      <td>5.854521</td>\n",
       "      <td>15.388130</td>\n",
       "      <td>69.367027</td>\n",
       "      <td>15.388130</td>\n",
       "      <td>57.325916</td>\n",
       "      <td>1.0</td>\n",
       "      <td>1.000526</td>\n",
       "      <td>0.841755</td>\n",
       "      <td>0.539860</td>\n",
       "      <td>0.268574</td>\n",
       "    </tr>\n",
       "  </tbody>\n",
       "</table>\n",
       "</div>"
      ],
      "text/plain": [
       "   ID  Area Maximum  Valid Landslide   Latitude   Longitude  CURVATURE  \\\n",
       "0   1         200.0                1 -36.819859  174.746298   1.379645   \n",
       "1   2           1.0                1 -36.798134  174.684934   0.190541   \n",
       "2   3         200.0                1 -36.932751  174.744548   0.068507   \n",
       "3   4           1.2                1 -36.852885  174.792092   0.528753   \n",
       "4   5         300.0                1 -36.809204  174.718141  -0.087607   \n",
       "\n",
       "        TWI  SLOPE_deg        DEM  SLOPE_deg.1  ASPECT_deg  LANDCOVER_CODE  \\\n",
       "0  5.286413  11.441814  18.809872    11.441814  222.978638             1.0   \n",
       "1  6.555068  14.671361  19.514647    14.671361  166.090866             1.0   \n",
       "2  9.921234  17.020342  22.542194    17.020342  158.192902            11.0   \n",
       "3  3.760681  29.180260  24.194622    29.180260   59.103947            11.0   \n",
       "4  5.854521  15.388130  69.367027    15.388130   57.325916             1.0   \n",
       "\n",
       "   ASPECT_rad  ASPECT_sin  ASPECT_cos  SLOPE_rad  \n",
       "0    3.891711   -0.681726   -0.731608   0.199697  \n",
       "1    2.898832    0.240383   -0.970678   0.256064  \n",
       "2    2.760987    0.371483   -0.928440   0.297061  \n",
       "3    1.031558    0.858100    0.513482   0.509292  \n",
       "4    1.000526    0.841755    0.539860   0.268574  "
      ]
     },
     "execution_count": 3,
     "metadata": {},
     "output_type": "execute_result"
    }
   ],
   "source": [
    "df.head()"
   ]
  },
  {
   "cell_type": "code",
   "execution_count": 4,
   "id": "3e7b90ad",
   "metadata": {},
   "outputs": [
    {
     "data": {
      "text/plain": [
       "ID                     0\n",
       "Valid Landslide        0\n",
       "Latitude               0\n",
       "Longitude              0\n",
       "LANDCOVER_CODE      4485\n",
       "CURVATURE           4973\n",
       "DEM                 4973\n",
       "SLOPE_deg           5062\n",
       "SLOPE_deg.1         5062\n",
       "SLOPE_rad           5062\n",
       "TWI                 5427\n",
       "ASPECT_deg          5427\n",
       "ASPECT_rad          5427\n",
       "ASPECT_sin          5427\n",
       "ASPECT_cos          5427\n",
       "Area Maximum       11926\n",
       "dtype: int64"
      ]
     },
     "execution_count": 4,
     "metadata": {},
     "output_type": "execute_result"
    }
   ],
   "source": [
    "df.isna().sum().sort_values()"
   ]
  },
  {
   "cell_type": "code",
   "execution_count": 5,
   "id": "eaef6f50",
   "metadata": {},
   "outputs": [
    {
     "data": {
      "text/plain": [
       "21451    12\n",
       "20755    12\n",
       "16495    12\n",
       "20739    12\n",
       "16494    12\n",
       "         ..\n",
       "8002      0\n",
       "8001      0\n",
       "8000      0\n",
       "7999      0\n",
       "0         0\n",
       "Length: 23852, dtype: int64"
      ]
     },
     "execution_count": 5,
     "metadata": {},
     "output_type": "execute_result"
    }
   ],
   "source": [
    "df.isna().sum(axis=1).sort_values(ascending=False)"
   ]
  },
  {
   "cell_type": "code",
   "execution_count": 6,
   "id": "d08978dc",
   "metadata": {},
   "outputs": [],
   "source": [
    "# ...existing code...\n",
    "df_clean = df.drop(columns='Area Maximum').dropna(axis=0)\n",
    "# ...existing code..."
   ]
  },
  {
   "cell_type": "code",
   "execution_count": 7,
   "id": "9fd265b3",
   "metadata": {},
   "outputs": [
    {
     "data": {
      "text/plain": [
       "18423"
      ]
     },
     "execution_count": 7,
     "metadata": {},
     "output_type": "execute_result"
    }
   ],
   "source": [
    "len(df_clean)"
   ]
  },
  {
   "cell_type": "code",
   "execution_count": 8,
   "id": "81766e0a",
   "metadata": {},
   "outputs": [
    {
     "data": {
      "text/plain": [
       "ID                 0\n",
       "Valid Landslide    0\n",
       "Latitude           0\n",
       "Longitude          0\n",
       "CURVATURE          0\n",
       "TWI                0\n",
       "SLOPE_deg          0\n",
       "DEM                0\n",
       "SLOPE_deg.1        0\n",
       "ASPECT_deg         0\n",
       "LANDCOVER_CODE     0\n",
       "ASPECT_rad         0\n",
       "ASPECT_sin         0\n",
       "ASPECT_cos         0\n",
       "SLOPE_rad          0\n",
       "dtype: int64"
      ]
     },
     "execution_count": 8,
     "metadata": {},
     "output_type": "execute_result"
    }
   ],
   "source": [
    "df_clean.isna().sum().sort_values()"
   ]
  },
  {
   "cell_type": "code",
   "execution_count": 9,
   "id": "f3a1229d",
   "metadata": {},
   "outputs": [],
   "source": [
    "df_clean.to_csv('./landslides_with_variables_cleaned.csv', index=False)"
   ]
  }
 ],
 "metadata": {
  "kernelspec": {
   "display_name": "geo",
   "language": "python",
   "name": "python3"
  },
  "language_info": {
   "codemirror_mode": {
    "name": "ipython",
    "version": 3
   },
   "file_extension": ".py",
   "mimetype": "text/x-python",
   "name": "python",
   "nbconvert_exporter": "python",
   "pygments_lexer": "ipython3",
   "version": "3.13.5"
  }
 },
 "nbformat": 4,
 "nbformat_minor": 5
}
